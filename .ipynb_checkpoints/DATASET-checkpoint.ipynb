{
 "cells": [
  {
   "cell_type": "code",
   "execution_count": 1,
   "id": "f750100d-46c0-4fa4-8b80-fe1d54cab29b",
   "metadata": {},
   "outputs": [
    {
     "name": "stdout",
     "output_type": "stream",
     "text": [
      "Dataset berhasil dibagi ke dalam folder train, val, dan test.\n"
     ]
    }
   ],
   "source": [
    "import os\n",
    "import shutil\n",
    "from sklearn.model_selection import train_test_split\n",
    "\n",
    "# Path ke dataset awal\n",
    "input_base_path = r\"D:\\KULIAH\\SEMESTER 5\\PENGHLIHATAN DAN ANALISIS CITRA\\DATASET\\Klasifikasi\\Processed\"\n",
    "output_base_path = r\"D:\\KULIAH\\SEMESTER 5\\PENGHLIHATAN DAN ANALISIS CITRA\\DATASET\\Klasifikasi\\DATASET\"\n",
    "labels = [\"Akmal\", \"Almira\", \"Galih\", \"Galuh\", \"Laela\"]\n",
    "\n",
    "# Persentase pembagian dataset\n",
    "train_ratio = 0.7  # 70% untuk training\n",
    "val_ratio = 0.15   # 15% untuk validation\n",
    "test_ratio = 0.15  # 15% untuk testing\n",
    "\n",
    "# Memastikan total ratio adalah 1.0\n",
    "assert train_ratio + val_ratio + test_ratio == 1.0, \"Total ratio harus 1.0\"\n",
    "\n",
    "# Membuat folder output\n",
    "for folder in [\"train\", \"val\", \"test\"]:\n",
    "    os.makedirs(os.path.join(output_base_path, folder), exist_ok=True)\n",
    "\n",
    "# Memindahkan file per label\n",
    "for label in labels:\n",
    "    label_path = os.path.join(input_base_path, label)\n",
    "    if not os.path.isdir(label_path):\n",
    "        continue\n",
    "\n",
    "    # List semua file dalam folder label\n",
    "    files = [os.path.join(label_path, f) for f in os.listdir(label_path) if os.path.isfile(os.path.join(label_path, f))]\n",
    "    \n",
    "    # Membagi dataset ke train, val, test\n",
    "    train_files, temp_files = train_test_split(files, test_size=(1 - train_ratio), random_state=42)\n",
    "    val_files, test_files = train_test_split(temp_files, test_size=(test_ratio / (val_ratio + test_ratio)), random_state=42)\n",
    "    \n",
    "    # Fungsi untuk memindahkan file\n",
    "    def move_files(files, destination):\n",
    "        dest_label_folder = os.path.join(output_base_path, destination, label)\n",
    "        os.makedirs(dest_label_folder, exist_ok=True)\n",
    "        for file in files:\n",
    "            shutil.copy(file, dest_label_folder)\n",
    "\n",
    "    # Memindahkan file ke folder train, val, test\n",
    "    move_files(train_files, \"train\")\n",
    "    move_files(val_files, \"val\")\n",
    "    move_files(test_files, \"test\")\n",
    "\n",
    "print(\"Dataset berhasil dibagi ke dalam folder train, val, dan test.\")\n"
   ]
  },
  {
   "cell_type": "code",
   "execution_count": null,
   "id": "0b89c336-be0f-4e00-883e-b39ccca6df34",
   "metadata": {},
   "outputs": [],
   "source": []
  }
 ],
 "metadata": {
  "kernelspec": {
   "display_name": "Python 3 (ipykernel)",
   "language": "python",
   "name": "python3"
  },
  "language_info": {
   "codemirror_mode": {
    "name": "ipython",
    "version": 3
   },
   "file_extension": ".py",
   "mimetype": "text/x-python",
   "name": "python",
   "nbconvert_exporter": "python",
   "pygments_lexer": "ipython3",
   "version": "3.12.7"
  }
 },
 "nbformat": 4,
 "nbformat_minor": 5
}
